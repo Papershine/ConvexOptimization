{
 "cells": [
  {
   "cell_type": "code",
   "execution_count": 1,
   "id": "15a077c8-1466-4fc5-b100-d8a4b682ef91",
   "metadata": {},
   "outputs": [
    {
     "name": "stdout",
     "output_type": "stream",
     "text": [
      "\u001b[33mWARNING: Skipping /opt/conda/lib/python3.11/site-packages/nlopt-2.7.1.dist-info due to invalid metadata entry 'name'\u001b[0m\u001b[33m\n",
      "\u001b[0mRequirement already satisfied: cvxpy in /home/jupyter/.local/lib/python3.11/site-packages (1.5.3)\n",
      "Requirement already satisfied: osqp>=0.6.2 in /home/jupyter/.local/lib/python3.11/site-packages (from cvxpy) (0.6.7.post1)\n",
      "Requirement already satisfied: ecos>=2 in /home/jupyter/.local/lib/python3.11/site-packages (from cvxpy) (2.0.14)\n",
      "Requirement already satisfied: clarabel>=0.5.0 in /home/jupyter/.local/lib/python3.11/site-packages (from cvxpy) (0.9.0)\n",
      "Requirement already satisfied: scs>=3.2.4.post1 in /home/jupyter/.local/lib/python3.11/site-packages (from cvxpy) (3.2.6)\n",
      "Requirement already satisfied: numpy>=1.15 in /opt/conda/lib/python3.11/site-packages (from cvxpy) (1.26.2)\n",
      "Requirement already satisfied: scipy>=1.1.0 in /opt/conda/lib/python3.11/site-packages (from cvxpy) (1.11.4)\n",
      "Requirement already satisfied: qdldl in /home/jupyter/.local/lib/python3.11/site-packages (from osqp>=0.6.2->cvxpy) (0.1.7.post4)\n",
      "\u001b[33mWARNING: Skipping /opt/conda/lib/python3.11/site-packages/nlopt-2.7.1.dist-info due to invalid metadata entry 'name'\u001b[0m\u001b[33m\n",
      "\u001b[0mNote: you may need to restart the kernel to use updated packages.\n"
     ]
    }
   ],
   "source": [
    "%pip install cvxpy"
   ]
  },
  {
   "cell_type": "code",
   "execution_count": 2,
   "id": "9f04a260-ccb0-4a10-84af-c5d734f59d69",
   "metadata": {},
   "outputs": [],
   "source": [
    "import numpy as np\n",
    "import matplotlib.pyplot as plt\n",
    "import scipy.linalg as la\n",
    "import cvxpy as cp"
   ]
  },
  {
   "cell_type": "code",
   "execution_count": 3,
   "id": "b5ba99e6-9671-4c0f-bb5a-021aa6a3114f",
   "metadata": {},
   "outputs": [],
   "source": [
    "#coords = np.random.randint(0, 100, size=(50,2))"
   ]
  },
  {
   "cell_type": "code",
   "execution_count": 4,
   "id": "7e83ced1-2d9f-4693-acdd-deb7dfa2be66",
   "metadata": {},
   "outputs": [],
   "source": [
    "coords = np.array([[76, 8], [77, 98], [75, 95], [22, 74], [79, 76], [61, 16], [66, 93], [ 9, 14], [ 2, 62], [63, 48], [ 6, 97], [12, 94], [48, 84], [26, 10], [74, 41], [83, 10], [47, 49], [36, 11], [47, 91], [36, 77], [56, 28], [18, 23], [22, 86], [76, 81], [ 8, 39], [21, 88], [88, 17], [ 4, 20], [83, 76], [ 5, 80], [41, 61], [72, 70], [22, 85], [30, 41], [34, 97], [66, 1], [ 9, 52], [97, 66], [73, 76], [66, 27], [54, 62], [56, 62], [ 2, 90], [45, 76], [29, 64], [43, 48], [20, 96], [15, 4], [20, 47], [78, 61]])"
   ]
  },
  {
   "cell_type": "code",
   "execution_count": 5,
   "id": "f5664aeb-07b4-4f1e-a3ef-9f6883d3a906",
   "metadata": {},
   "outputs": [
    {
     "data": {
      "image/png": "[encoded data removed]",
      "text/plain": [
       "<Figure size 640x480 with 1 Axes>"
      ]
     },
     "metadata": {},
     "output_type": "display_data"
    }
   ],
   "source": [
    "plt.scatter(coords[:,0], coords[:,1])\n",
    "ax = plt.gca()\n",
    "ax.set_aspect('equal', adjustable='box')\n",
    "plt.show()"
   ]
  },
  {
   "cell_type": "code",
   "execution_count": 6,
   "id": "ec4efe65-e69a-4170-a86f-87b7f1fc3214",
   "metadata": {},
   "outputs": [
    {
     "data": {
      "text/plain": [
       "1890.8766374861061"
      ]
     },
     "execution_count": 6,
     "metadata": {},
     "output_type": "execute_result"
    }
   ],
   "source": [
    "# the optimal server location, using cvxpy\n",
    "x = cp.Variable((1, 2))\n",
    "obj = cp.Minimize(cp.sum(cp.norm(coords - x, 2, axis=1)))\n",
    "problem = cp.Problem(obj)\n",
    "problem.solve()"
   ]
  },
  {
   "cell_type": "code",
   "execution_count": 7,
   "id": "b1be3816-9589-4dad-9573-c2083e8ae916",
   "metadata": {},
   "outputs": [
    {
     "data": {
      "image/png": "[encoded data removed]",
      "text/plain": [
       "<Figure size 640x480 with 1 Axes>"
      ]
     },
     "metadata": {},
     "output_type": "display_data"
    }
   ],
   "source": [
    "# plot the solution\n",
    "plt.scatter(coords[:,0], coords[:,1])\n",
    "plt.scatter(x.value[:,0], x.value[:,1], color='red')\n",
    "ax = plt.gca()\n",
    "ax.set_aspect('equal', adjustable='box')\n",
    "plt.show()"
   ]
  },
  {
   "cell_type": "code",
   "execution_count": null,
   "id": "ce9271a8-16ee-4e10-96dc-737839ed4eed",
   "metadata": {},
   "outputs": [],
   "source": [
    "def obj(x):\n",
    "    return 0"
   ]
  },
  {
   "cell_type": "code",
   "execution_count": 8,
   "id": "e7f8d81a-0bcb-4d23-ae99-04ade42c1726",
   "metadata": {},
   "outputs": [],
   "source": [
    "def grad(x):\n",
    "    return np.array([0, 0])"
   ]
  },
  {
   "cell_type": "code",
   "execution_count": 10,
   "id": "135e7872-4f46-40dc-afcd-f57fec9bdaf4",
   "metadata": {},
   "outputs": [
    {
     "data": {
      "text/plain": [
       "array([76,  8])"
      ]
     },
     "execution_count": 10,
     "metadata": {},
     "output_type": "execute_result"
    }
   ],
   "source": [
    "# gradient descent\n",
    "x = coords[0]\n",
    "ep = 1e-6\n",
    "beta = 0.7\n",
    "while np.linalg.norm(grad(x)) > ep:\n",
    "    del_x = -grad(x)\n",
    "    # use backtracking search to find t\n",
    "    t = 1\n",
    "    while obj(x + del_x) > (obj(x) - (t / 2) * np.linalg.norm(del_x)**2):\n",
    "        t = beta * t\n",
    "    x = x + t * del_x\n",
    "x"
   ]
  },
  {
   "cell_type": "code",
   "execution_count": null,
   "id": "787beb70-0ab9-4948-ac56-1dc834abb7f0",
   "metadata": {},
   "outputs": [],
   "source": []
  }
 ],
 "metadata": {
  "kernelspec": {
   "display_name": "Python 3 (ipykernel)",
   "language": "python",
   "name": "python3"
  },
  "language_info": {
   "codemirror_mode": {
    "name": "ipython",
    "version": 3
   },
   "file_extension": ".py",
   "mimetype": "text/x-python",
   "name": "python",
   "nbconvert_exporter": "python",
   "pygments_lexer": "ipython3",
   "version": "3.11.6"
  }
 },
 "nbformat": 4,
 "nbformat_minor": 5
}
